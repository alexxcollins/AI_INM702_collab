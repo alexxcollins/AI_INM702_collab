{
 "cells": [
  {
   "cell_type": "code",
   "execution_count": 4,
   "id": "5f0de9b2-d046-48b4-b4cc-13429ac27c77",
   "metadata": {},
   "outputs": [],
   "source": [
    "import numpy as np\n",
    "import matplotlib.pyplot as plt"
   ]
  },
  {
   "cell_type": "markdown",
   "id": "c57d0f06-b60f-4db5-91ac-3d9367779445",
   "metadata": {},
   "source": [
    "Sigmoid activation:  \n",
    "\n",
    " $\\sigma(x) = \\frac{1}{1+e^{-x}}$\n",
    "\n",
    " $\\frac{\\delta}{\\delta x} \\sigma = \\sigma(x)(1 - \\sigma(x))$ \n",
    " \n",
    "ReLU activation:\n",
    "\n",
    " $y = max(0,x)$\n",
    " \n",
    " $\\frac{\\delta}{\\delta x}y = \\{0 , 1\\}$"
   ]
  },
  {
   "cell_type": "code",
   "execution_count": 8,
   "id": "4f1fb871-a7d6-4feb-bd2e-5f5c5d47ae1a",
   "metadata": {},
   "outputs": [],
   "source": [
    "class NN:\n",
    "    \n",
    "    def __init__(self, name):\n",
    "        \"\"\"what do we want initialisation to do?\"\"\"\n",
    "    \n",
    "    def set_initial_weights(self):\n",
    "        \"\"\"do we need method to do this? \n",
    "        something like:\"\"\"\n",
    "        \n",
    "    def add_layer(self, nodes, activation='ReLU', type='dense', drop_out=None):\n",
    "        \n",
    "    \n",
    "    def _forward_prop(self):\n",
    "        \"\"\"do we have a method to do forward propogation?\n",
    "        This would take inputs, and apply weights and functions etc to\n",
    "        calculate loss\"\"\"\n",
    "        \n",
    "    def _backward_prop(self):\n",
    "        \"\"\"do we have method to run backward propogation?\"\"\"\n",
    "        \n",
    "    def _activation(self):\n",
    "        "
   ]
  },
  {
   "cell_type": "code",
   "execution_count": 9,
   "id": "514072d5-f353-4e45-bd1c-3e0a47258493",
   "metadata": {},
   "outputs": [
    {
     "name": "stdout",
     "output_type": "stream",
     "text": [
      "my name is alex\n"
     ]
    },
    {
     "data": {
      "text/plain": [
       "<__main__.NN at 0x10fba96a0>"
      ]
     },
     "execution_count": 9,
     "metadata": {},
     "output_type": "execute_result"
    }
   ],
   "source": [
    "NN('alex')"
   ]
  },
  {
   "cell_type": "code",
   "execution_count": null,
   "id": "040f7c84-8324-4aa4-937d-47a5531283af",
   "metadata": {},
   "outputs": [],
   "source": []
  }
 ],
 "metadata": {
  "kernelspec": {
   "display_name": "Python 3 (ipykernel)",
   "language": "python",
   "name": "python3"
  },
  "language_info": {
   "codemirror_mode": {
    "name": "ipython",
    "version": 3
   },
   "file_extension": ".py",
   "mimetype": "text/x-python",
   "name": "python",
   "nbconvert_exporter": "python",
   "pygments_lexer": "ipython3",
   "version": "3.9.7"
  }
 },
 "nbformat": 4,
 "nbformat_minor": 5
}
