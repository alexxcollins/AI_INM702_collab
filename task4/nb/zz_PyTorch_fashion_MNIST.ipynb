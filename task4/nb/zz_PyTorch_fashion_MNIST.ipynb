{
 "cells": [
  {
   "cell_type": "code",
   "execution_count": 1,
   "id": "5ede3dfc-aafd-4ac7-b01d-c907bc55d6c9",
   "metadata": {},
   "outputs": [],
   "source": [
    "import torch\n",
    "from torch import nn\n",
    "from torch.utils.data import DataLoader\n",
    "from torchvision import datasets\n",
    "from torchvision.transforms import ToTensor, Lambda, Compose\n",
    "import matplotlib.pyplot as plt"
   ]
  },
  {
   "cell_type": "code",
   "execution_count": 2,
   "id": "152ef9ba-2a2f-4366-9239-08e2d7f54154",
   "metadata": {},
   "outputs": [
    {
     "name": "stdout",
     "output_type": "stream",
     "text": [
      "Downloading http://fashion-mnist.s3-website.eu-central-1.amazonaws.com/train-images-idx3-ubyte.gz\n",
      "Downloading http://fashion-mnist.s3-website.eu-central-1.amazonaws.com/train-images-idx3-ubyte.gz to data/FashionMNIST/raw/train-images-idx3-ubyte.gz\n"
     ]
    },
    {
     "name": "stderr",
     "output_type": "stream",
     "text": [
      "100.0%\n"
     ]
    },
    {
     "name": "stdout",
     "output_type": "stream",
     "text": [
      "Extracting data/FashionMNIST/raw/train-images-idx3-ubyte.gz to data/FashionMNIST/raw\n",
      "\n",
      "Downloading http://fashion-mnist.s3-website.eu-central-1.amazonaws.com/train-labels-idx1-ubyte.gz\n",
      "Downloading http://fashion-mnist.s3-website.eu-central-1.amazonaws.com/train-labels-idx1-ubyte.gz to data/FashionMNIST/raw/train-labels-idx1-ubyte.gz\n"
     ]
    },
    {
     "name": "stderr",
     "output_type": "stream",
     "text": [
      "100.6%\n"
     ]
    },
    {
     "name": "stdout",
     "output_type": "stream",
     "text": [
      "Extracting data/FashionMNIST/raw/train-labels-idx1-ubyte.gz to data/FashionMNIST/raw\n",
      "\n",
      "Downloading http://fashion-mnist.s3-website.eu-central-1.amazonaws.com/t10k-images-idx3-ubyte.gz\n",
      "Downloading http://fashion-mnist.s3-website.eu-central-1.amazonaws.com/t10k-images-idx3-ubyte.gz to data/FashionMNIST/raw/t10k-images-idx3-ubyte.gz\n"
     ]
    },
    {
     "name": "stderr",
     "output_type": "stream",
     "text": [
      "100.0%\n"
     ]
    },
    {
     "name": "stdout",
     "output_type": "stream",
     "text": [
      "Extracting data/FashionMNIST/raw/t10k-images-idx3-ubyte.gz to data/FashionMNIST/raw\n",
      "\n",
      "Downloading http://fashion-mnist.s3-website.eu-central-1.amazonaws.com/t10k-labels-idx1-ubyte.gz\n",
      "Downloading http://fashion-mnist.s3-website.eu-central-1.amazonaws.com/t10k-labels-idx1-ubyte.gz to data/FashionMNIST/raw/t10k-labels-idx1-ubyte.gz\n"
     ]
    },
    {
     "name": "stderr",
     "output_type": "stream",
     "text": [
      "119.3%"
     ]
    },
    {
     "name": "stdout",
     "output_type": "stream",
     "text": [
      "Extracting data/FashionMNIST/raw/t10k-labels-idx1-ubyte.gz to data/FashionMNIST/raw\n",
      "\n"
     ]
    },
    {
     "name": "stderr",
     "output_type": "stream",
     "text": [
      "\n"
     ]
    }
   ],
   "source": [
    "# Download training data from open datasets.\n",
    "training_data = datasets.FashionMNIST(\n",
    "    root=\"data\",\n",
    "    train=True,\n",
    "    download=True,\n",
    "    transform=ToTensor(),\n",
    ")\n",
    "\n",
    "# Download test data from open datasets.\n",
    "test_data = datasets.FashionMNIST(\n",
    "    root=\"data\",\n",
    "    train=False,\n",
    "    download=True,\n",
    "    transform=ToTensor(),\n",
    ")"
   ]
  },
  {
   "cell_type": "code",
   "execution_count": 12,
   "id": "f76016f9-edd2-442e-9f7c-e438ee41a833",
   "metadata": {},
   "outputs": [
    {
     "data": {
      "text/plain": [
       "torchvision.datasets.mnist.FashionMNIST"
      ]
     },
     "execution_count": 12,
     "metadata": {},
     "output_type": "execute_result"
    }
   ],
   "source": [
    "type(training_data)"
   ]
  },
  {
   "cell_type": "code",
   "execution_count": 13,
   "id": "66451147-aa40-477d-b07c-c796ab6f7cfc",
   "metadata": {},
   "outputs": [
    {
     "data": {
      "text/plain": [
       "['__add__',\n",
       " '__annotations__',\n",
       " '__class__',\n",
       " '__class_getitem__',\n",
       " '__delattr__',\n",
       " '__dict__',\n",
       " '__dir__',\n",
       " '__doc__',\n",
       " '__eq__',\n",
       " '__format__',\n",
       " '__ge__',\n",
       " '__getattr__',\n",
       " '__getattribute__',\n",
       " '__getitem__',\n",
       " '__gt__',\n",
       " '__hash__',\n",
       " '__init__',\n",
       " '__init_subclass__',\n",
       " '__le__',\n",
       " '__len__',\n",
       " '__lt__',\n",
       " '__module__',\n",
       " '__ne__',\n",
       " '__new__',\n",
       " '__orig_bases__',\n",
       " '__parameters__',\n",
       " '__reduce__',\n",
       " '__reduce_ex__',\n",
       " '__repr__',\n",
       " '__setattr__',\n",
       " '__sizeof__',\n",
       " '__slots__',\n",
       " '__str__',\n",
       " '__subclasshook__',\n",
       " '__weakref__',\n",
       " '_check_exists',\n",
       " '_check_legacy_exist',\n",
       " '_format_transform_repr',\n",
       " '_is_protocol',\n",
       " '_load_data',\n",
       " '_load_legacy_data',\n",
       " '_repr_indent',\n",
       " 'class_to_idx',\n",
       " 'classes',\n",
       " 'data',\n",
       " 'download',\n",
       " 'extra_repr',\n",
       " 'functions',\n",
       " 'mirrors',\n",
       " 'processed_folder',\n",
       " 'raw_folder',\n",
       " 'register_datapipe_as_function',\n",
       " 'register_function',\n",
       " 'resources',\n",
       " 'root',\n",
       " 'target_transform',\n",
       " 'targets',\n",
       " 'test_data',\n",
       " 'test_file',\n",
       " 'test_labels',\n",
       " 'train',\n",
       " 'train_data',\n",
       " 'train_labels',\n",
       " 'training_file',\n",
       " 'transform',\n",
       " 'transforms']"
      ]
     },
     "execution_count": 13,
     "metadata": {},
     "output_type": "execute_result"
    }
   ],
   "source": [
    "dir(training_data)"
   ]
  },
  {
   "cell_type": "code",
   "execution_count": 14,
   "id": "cb2a5601-055c-4e01-b3bf-2e4292adf39a",
   "metadata": {},
   "outputs": [
    {
     "data": {
      "text/plain": [
       "torch.Tensor"
      ]
     },
     "execution_count": 14,
     "metadata": {},
     "output_type": "execute_result"
    }
   ],
   "source": [
    "type(training_data.data)"
   ]
  },
  {
   "cell_type": "code",
   "execution_count": 15,
   "id": "3cb5bb40-6abc-4dfc-81bf-363935276f02",
   "metadata": {},
   "outputs": [
    {
     "data": {
      "text/plain": [
       "torch.Size([60000, 28, 28])"
      ]
     },
     "execution_count": 15,
     "metadata": {},
     "output_type": "execute_result"
    }
   ],
   "source": [
    "training_data.data.shape"
   ]
  },
  {
   "cell_type": "code",
   "execution_count": 16,
   "id": "7be16403-7dee-4ce2-9919-302bb09f6945",
   "metadata": {},
   "outputs": [
    {
     "name": "stdout",
     "output_type": "stream",
     "text": [
      "Shape of X [N, C, H, W]:  torch.Size([64, 1, 28, 28])\n",
      "Shape of y:  torch.Size([64]) torch.int64\n"
     ]
    }
   ],
   "source": [
    "batch_size = 64\n",
    "\n",
    "# Create data loaders.\n",
    "train_dataloader = DataLoader(training_data, batch_size=batch_size)\n",
    "test_dataloader = DataLoader(test_data, batch_size=batch_size)\n",
    "\n",
    "for X, y in test_dataloader:\n",
    "    print(\"Shape of X [N, C, H, W]: \", X.shape)\n",
    "    print(\"Shape of y: \", y.shape, y.dtype)\n",
    "    break"
   ]
  },
  {
   "cell_type": "code",
   "execution_count": 17,
   "id": "9e52180c-06b1-4bf5-a35a-1d236acf9652",
   "metadata": {},
   "outputs": [
    {
     "name": "stdout",
     "output_type": "stream",
     "text": [
      "Using cpu device\n",
      "NeuralNetwork(\n",
      "  (flatten): Flatten(start_dim=1, end_dim=-1)\n",
      "  (linear_relu_stack): Sequential(\n",
      "    (0): Linear(in_features=784, out_features=512, bias=True)\n",
      "    (1): Sigmoid()\n",
      "    (2): Linear(in_features=512, out_features=512, bias=True)\n",
      "    (3): Sigmoid()\n",
      "    (4): Linear(in_features=512, out_features=10, bias=True)\n",
      "  )\n",
      ")\n"
     ]
    }
   ],
   "source": [
    "# Get cpu or gpu device for training.\n",
    "device = \"cuda\" if torch.cuda.is_available() else \"cpu\"\n",
    "print(f\"Using {device} device\")\n",
    "\n",
    "# Define model\n",
    "class NeuralNetwork(nn.Module):\n",
    "    def __init__(self):\n",
    "        super(NeuralNetwork, self).__init__()\n",
    "        self.flatten = nn.Flatten()\n",
    "        self.linear_relu_stack = nn.Sequential(\n",
    "            nn.Linear(28*28, 512),\n",
    "            nn.Sigmoid(),\n",
    "            nn.Linear(512, 512),\n",
    "            nn.Sigmoid(),\n",
    "            nn.Linear(512, 10)\n",
    "        )\n",
    "\n",
    "    def forward(self, x):\n",
    "        x = self.flatten(x)\n",
    "        logits = self.linear_relu_stack(x)\n",
    "        return logits\n",
    "\n",
    "model = NeuralNetwork().to(device)\n",
    "print(model)"
   ]
  },
  {
   "cell_type": "code",
   "execution_count": 18,
   "id": "6bd8a4be-c779-40ed-b04c-471d0857b1e9",
   "metadata": {},
   "outputs": [],
   "source": [
    "loss_fn = nn.CrossEntropyLoss()\n",
    "optimizer = torch.optim.SGD(model.parameters(), lr=1e-3)"
   ]
  },
  {
   "cell_type": "code",
   "execution_count": 19,
   "id": "fe5590c9-7b55-4408-bd9e-dc7bafd067da",
   "metadata": {},
   "outputs": [],
   "source": [
    "def train(dataloader, model, loss_fn, optimizer):\n",
    "    size = len(dataloader.dataset)\n",
    "    model.train()\n",
    "    for batch, (X, y) in enumerate(dataloader):\n",
    "        X, y = X.to(device), y.to(device)\n",
    "\n",
    "        # Compute prediction error\n",
    "        pred = model(X)\n",
    "        loss = loss_fn(pred, y)\n",
    "\n",
    "        # Backpropagation\n",
    "        optimizer.zero_grad()\n",
    "        loss.backward()\n",
    "        optimizer.step()\n",
    "\n",
    "        if batch % 100 == 0:\n",
    "            loss, current = loss.item(), batch * len(X)\n",
    "            print(f\"loss: {loss:>7f}  [{current:>5d}/{size:>5d}]\")"
   ]
  },
  {
   "cell_type": "code",
   "execution_count": 20,
   "id": "d9cde5af-2429-4990-9c1f-e92d777edd44",
   "metadata": {},
   "outputs": [],
   "source": [
    "def test(dataloader, model, loss_fn):\n",
    "    size = len(dataloader.dataset)\n",
    "    num_batches = len(dataloader)\n",
    "    model.eval()\n",
    "    test_loss, correct = 0, 0\n",
    "    with torch.no_grad():\n",
    "        for X, y in dataloader:\n",
    "            X, y = X.to(device), y.to(device)\n",
    "            pred = model(X)\n",
    "            test_loss += loss_fn(pred, y).item()\n",
    "            correct += (pred.argmax(1) == y).type(torch.float).sum().item()\n",
    "    test_loss /= num_batches\n",
    "    correct /= size\n",
    "    print(f\"Test Error: \\n Accuracy: {(100*correct):>0.1f}%, Avg loss: {test_loss:>8f} \\n\")"
   ]
  },
  {
   "cell_type": "code",
   "execution_count": 29,
   "id": "22063bc5-f7f2-4894-af94-6c9cb84bd18c",
   "metadata": {},
   "outputs": [
    {
     "name": "stdout",
     "output_type": "stream",
     "text": [
      "Epoch 1\n",
      "-------------------------------\n",
      "loss: 2.286649  [    0/60000]\n",
      "loss: 2.292127  [ 6400/60000]\n",
      "loss: 2.283345  [12800/60000]\n",
      "loss: 2.291410  [19200/60000]\n",
      "loss: 2.284908  [25600/60000]\n",
      "loss: 2.290195  [32000/60000]\n",
      "loss: 2.288070  [38400/60000]\n",
      "loss: 2.284247  [44800/60000]\n",
      "loss: 2.286669  [51200/60000]\n",
      "loss: 2.289324  [57600/60000]\n",
      "Test Error: \n",
      " Accuracy: 22.4%, Avg loss: 2.284700 \n",
      "\n",
      "Epoch 2\n",
      "-------------------------------\n",
      "loss: 2.283700  [    0/60000]\n",
      "loss: 2.289427  [ 6400/60000]\n",
      "loss: 2.280131  [12800/60000]\n",
      "loss: 2.288763  [19200/60000]\n",
      "loss: 2.281534  [25600/60000]\n",
      "loss: 2.287089  [32000/60000]\n",
      "loss: 2.284880  [38400/60000]\n",
      "loss: 2.281043  [44800/60000]\n",
      "loss: 2.283432  [51200/60000]\n",
      "loss: 2.285945  [57600/60000]\n",
      "Test Error: \n",
      " Accuracy: 24.7%, Avg loss: 2.281426 \n",
      "\n",
      "Epoch 3\n",
      "-------------------------------\n",
      "loss: 2.280501  [    0/60000]\n",
      "loss: 2.286491  [ 6400/60000]\n",
      "loss: 2.276644  [12800/60000]\n",
      "loss: 2.285877  [19200/60000]\n",
      "loss: 2.277850  [25600/60000]\n",
      "loss: 2.283698  [32000/60000]\n",
      "loss: 2.281388  [38400/60000]\n",
      "loss: 2.277539  [44800/60000]\n",
      "loss: 2.279870  [51200/60000]\n",
      "loss: 2.282224  [57600/60000]\n",
      "Test Error: \n",
      " Accuracy: 25.4%, Avg loss: 2.277836 \n",
      "\n",
      "Epoch 4\n",
      "-------------------------------\n",
      "loss: 2.276998  [    0/60000]\n",
      "loss: 2.283266  [ 6400/60000]\n",
      "loss: 2.272825  [12800/60000]\n",
      "loss: 2.282698  [19200/60000]\n",
      "loss: 2.273787  [25600/60000]\n",
      "loss: 2.279960  [32000/60000]\n",
      "loss: 2.277526  [38400/60000]\n",
      "loss: 2.273671  [44800/60000]\n",
      "loss: 2.275910  [51200/60000]\n",
      "loss: 2.278085  [57600/60000]\n",
      "Test Error: \n",
      " Accuracy: 26.0%, Avg loss: 2.273862 \n",
      "\n",
      "Epoch 5\n",
      "-------------------------------\n",
      "loss: 2.273124  [    0/60000]\n",
      "loss: 2.279689  [ 6400/60000]\n",
      "loss: 2.268604  [12800/60000]\n",
      "loss: 2.279165  [19200/60000]\n",
      "loss: 2.269265  [25600/60000]\n",
      "loss: 2.275800  [32000/60000]\n",
      "loss: 2.273217  [38400/60000]\n",
      "loss: 2.269363  [44800/60000]\n",
      "loss: 2.271469  [51200/60000]\n",
      "loss: 2.273441  [57600/60000]\n",
      "Test Error: \n",
      " Accuracy: 26.8%, Avg loss: 2.269423 \n",
      "\n",
      "Epoch 6\n",
      "-------------------------------\n",
      "loss: 2.268802  [    0/60000]\n",
      "loss: 2.275686  [ 6400/60000]\n",
      "loss: 2.263896  [12800/60000]\n",
      "loss: 2.275202  [19200/60000]\n",
      "loss: 2.264187  [25600/60000]\n",
      "loss: 2.271132  [32000/60000]\n",
      "loss: 2.268368  [38400/60000]\n",
      "loss: 2.264523  [44800/60000]\n",
      "loss: 2.266446  [51200/60000]\n",
      "loss: 2.268184  [57600/60000]\n",
      "Test Error: \n",
      " Accuracy: 30.3%, Avg loss: 2.264423 \n",
      "\n",
      "Epoch 7\n",
      "-------------------------------\n",
      "loss: 2.263941  [    0/60000]\n",
      "loss: 2.271165  [ 6400/60000]\n",
      "loss: 2.258604  [12800/60000]\n",
      "loss: 2.270722  [19200/60000]\n",
      "loss: 2.258437  [25600/60000]\n",
      "loss: 2.265851  [32000/60000]\n",
      "loss: 2.262863  [38400/60000]\n",
      "loss: 2.259040  [44800/60000]\n",
      "loss: 2.260718  [51200/60000]\n",
      "loss: 2.262187  [57600/60000]\n",
      "Test Error: \n",
      " Accuracy: 33.7%, Avg loss: 2.258746 \n",
      "\n",
      "Epoch 8\n",
      "-------------------------------\n",
      "loss: 2.258428  [    0/60000]\n",
      "loss: 2.266019  [ 6400/60000]\n",
      "loss: 2.252605  [12800/60000]\n",
      "loss: 2.265614  [19200/60000]\n",
      "loss: 2.251876  [25600/60000]\n",
      "loss: 2.259828  [32000/60000]\n",
      "loss: 2.256567  [38400/60000]\n",
      "loss: 2.252779  [44800/60000]\n",
      "loss: 2.254137  [51200/60000]\n",
      "loss: 2.255292  [57600/60000]\n",
      "Test Error: \n",
      " Accuracy: 36.3%, Avg loss: 2.252251 \n",
      "\n",
      "Epoch 9\n",
      "-------------------------------\n",
      "loss: 2.252128  [    0/60000]\n",
      "loss: 2.260113  [ 6400/60000]\n",
      "loss: 2.245756  [12800/60000]\n",
      "loss: 2.259746  [19200/60000]\n",
      "loss: 2.244333  [25600/60000]\n",
      "loss: 2.252908  [32000/60000]\n",
      "loss: 2.249311  [38400/60000]\n",
      "loss: 2.245579  [44800/60000]\n",
      "loss: 2.246521  [51200/60000]\n",
      "loss: 2.247311  [57600/60000]\n",
      "Test Error: \n",
      " Accuracy: 38.1%, Avg loss: 2.244768 \n",
      "\n",
      "Epoch 10\n",
      "-------------------------------\n",
      "loss: 2.244876  [    0/60000]\n",
      "loss: 2.253283  [ 6400/60000]\n",
      "loss: 2.237878  [12800/60000]\n",
      "loss: 2.252956  [19200/60000]\n",
      "loss: 2.235600  [25600/60000]\n",
      "loss: 2.244902  [32000/60000]\n",
      "loss: 2.240892  [38400/60000]\n",
      "loss: 2.237240  [44800/60000]\n",
      "loss: 2.237651  [51200/60000]\n",
      "loss: 2.238008  [57600/60000]\n",
      "Test Error: \n",
      " Accuracy: 39.7%, Avg loss: 2.236086 \n",
      "\n",
      "Done!\n"
     ]
    }
   ],
   "source": [
    "epochs = 10\n",
    "for t in range(epochs):\n",
    "    print(f\"Epoch {t+1}\\n-------------------------------\")\n",
    "    train(train_dataloader, model, loss_fn, optimizer)\n",
    "    test(test_dataloader, model, loss_fn)\n",
    "print(\"Done!\")"
   ]
  },
  {
   "cell_type": "code",
   "execution_count": 28,
   "id": "87905b91-4e5e-43e4-9a9d-3e5945a670bf",
   "metadata": {},
   "outputs": [
    {
     "data": {
      "text/plain": [
       "tensor([9, 4, 4, 4, 4, 4, 4, 4, 5, 4])"
      ]
     },
     "execution_count": 28,
     "metadata": {},
     "output_type": "execute_result"
    }
   ],
   "source": [
    "train_features, train_labels = next(iter(train_dataloader))\n",
    "pred = model(train_features)\n",
    "pred = torch.argmax(pred, dim=1)\n",
    "pred[:10]"
   ]
  },
  {
   "cell_type": "code",
   "execution_count": null,
   "id": "b57335d3-5d4b-41f5-8fde-84fa1e89c8c7",
   "metadata": {},
   "outputs": [],
   "source": []
  }
 ],
 "metadata": {
  "kernelspec": {
   "display_name": "Python 3 (ipykernel)",
   "language": "python",
   "name": "python3"
  },
  "language_info": {
   "codemirror_mode": {
    "name": "ipython",
    "version": 3
   },
   "file_extension": ".py",
   "mimetype": "text/x-python",
   "name": "python",
   "nbconvert_exporter": "python",
   "pygments_lexer": "ipython3",
   "version": "3.9.7"
  }
 },
 "nbformat": 4,
 "nbformat_minor": 5
}
