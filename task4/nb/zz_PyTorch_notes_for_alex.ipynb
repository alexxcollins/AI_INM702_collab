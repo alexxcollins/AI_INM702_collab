{
 "cells": [
  {
   "cell_type": "markdown",
   "id": "0a6eaaa2-9a21-4628-b4ca-302b0d4e0266",
   "metadata": {
    "tags": []
   },
   "source": [
    "# PyTorch methods and dataloader manipulation\n",
    "\n",
    "Notes for Alex\n"
   ]
  },
  {
   "cell_type": "code",
   "execution_count": 1,
   "id": "a782be23-b5e6-4333-bdfd-b1b1d635a0f3",
   "metadata": {},
   "outputs": [],
   "source": [
    "import torch\n",
    "from torch import cuda\n",
    "from torch import nn\n",
    "from torch.utils.data import DataLoader\n",
    "from torchvision.datasets import CIFAR10\n",
    "from torchvision import transforms\n",
    "import numpy as np\n",
    "import pandas as pd\n",
    "from matplotlib import pyplot as plt\n",
    "from pathlib import Path"
   ]
  },
  {
   "cell_type": "code",
   "execution_count": 2,
   "id": "81bfefa2-cd19-4b42-8662-4505a188b90f",
   "metadata": {},
   "outputs": [
    {
     "name": "stdout",
     "output_type": "stream",
     "text": [
      "Files already downloaded and verified\n"
     ]
    }
   ],
   "source": [
    "data_folder = r\"../data\"\n",
    "\n",
    "transform = transforms.Compose([transforms.Resize(32),\n",
    "                                transforms.ToTensor()])\n",
    "CIFAR_data = CIFAR10(data_folder, train=True, transform=transform, download=True)\n",
    "\n",
    "train_dataloader = DataLoader(CIFAR_data,\n",
    "                          batch_size=4,\n",
    "                          shuffle=True)\n",
    "\n",
    "CIFAR_test_data = CIFAR10(data_folder, train=False, transform=transform)\n",
    "\n",
    "test_dataloader = DataLoader(CIFAR_test_data,\n",
    "                              batch_size=4,\n",
    "                              shuffle=True)"
   ]
  },
  {
   "cell_type": "code",
   "execution_count": 21,
   "id": "d1dcbdcd-c231-4b38-b945-f3a92e549cce",
   "metadata": {},
   "outputs": [],
   "source": [
    "# to do that explicitly below. Images in DataLoader objects have pixel values\n",
    "# in (0,1). The CIFAR_data.data has int values in (0,256) so have to convert\n",
    "# to floats to take mean etc further down\n",
    "train_imgs = torch.tensor(CIFAR_data.data).float()/256\n",
    "train_y = torch.tensor(CIFAR_data.targets)\n",
    "classes = CIFAR_data.classes\n",
    "\n",
    "# We need a map to get from index to class name.\n",
    "# So need to reverse .class_to_idx dict:\n",
    "labels_map = {}\n",
    "for key, val in CIFAR_data.class_to_idx.items():\n",
    "    labels_map[val] = key\n",
    "    \n",
    "test_imgs = torch.tensor(CIFAR_test_data.data).float()/256\n",
    "test_y = torch.tensor(CIFAR_test_data.targets)"
   ]
  },
  {
   "cell_type": "code",
   "execution_count": 22,
   "id": "2213f5be-2c57-4544-8b1e-7f81dfa58ae0",
   "metadata": {},
   "outputs": [
    {
     "data": {
      "text/plain": [
       "torch.Size([50000, 32, 32, 3])"
      ]
     },
     "execution_count": 22,
     "metadata": {},
     "output_type": "execute_result"
    }
   ],
   "source": [
    "train_imgs.shape"
   ]
  },
  {
   "cell_type": "markdown",
   "id": "72280f2e-46ed-4dae-b335-1f5568ca60f5",
   "metadata": {},
   "source": [
    "Access random image from data_loader batch:"
   ]
  },
  {
   "cell_type": "code",
   "execution_count": 23,
   "id": "40d6abf0-5de3-4550-906b-d09e606d1151",
   "metadata": {},
   "outputs": [
    {
     "name": "stdout",
     "output_type": "stream",
     "text": [
      "Feature batch shape: torch.Size([4, 3, 32, 32])\n",
      "Labels batch shape: torch.Size([4])\n"
     ]
    },
    {
     "data": {
      "image/png": "[encoded data removed]",
      "text/plain": [
       "<Figure size 432x288 with 1 Axes>"
      ]
     },
     "metadata": {
      "needs_background": "light"
     },
     "output_type": "display_data"
    },
    {
     "name": "stdout",
     "output_type": "stream",
     "text": [
      "Label: 1\n"
     ]
    }
   ],
   "source": [
    "train_features, train_labels = next(iter(train_dataloader))\n",
    "print(f\"Feature batch shape: {train_features.size()}\")\n",
    "print(f\"Labels batch shape: {train_labels.size()}\")\n",
    "img = train_features[0].permute(1,2,0)\n",
    "label = train_labels[0]\n",
    "plt.imshow(img)\n",
    "plt.show()\n",
    "print(f\"Label: {label}\")"
   ]
  },
  {
   "cell_type": "markdown",
   "id": "a1dbb786-bbc9-4101-849b-c2621ed1ccfd",
   "metadata": {},
   "source": [
    "Plot random sample of the data:"
   ]
  },
  {
   "cell_type": "code",
   "execution_count": null,
   "id": "dffccc81-9eb1-4b82-b5f9-6ce4caefeef6",
   "metadata": {},
   "outputs": [],
   "source": []
  }
 ],
 "metadata": {
  "kernelspec": {
   "display_name": "Python 3 (ipykernel)",
   "language": "python",
   "name": "python3"
  },
  "language_info": {
   "codemirror_mode": {
    "name": "ipython",
    "version": 3
   },
   "file_extension": ".py",
   "mimetype": "text/x-python",
   "name": "python",
   "nbconvert_exporter": "python",
   "pygments_lexer": "ipython3",
   "version": "3.9.7"
  }
 },
 "nbformat": 4,
 "nbformat_minor": 5
}
